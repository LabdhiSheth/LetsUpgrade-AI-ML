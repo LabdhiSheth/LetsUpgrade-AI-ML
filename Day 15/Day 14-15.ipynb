{
 "cells": [
  {
   "cell_type": "code",
   "execution_count": 2,
   "metadata": {},
   "outputs": [],
   "source": [
    "import numpy as np"
   ]
  },
  {
   "cell_type": "markdown",
   "metadata": {},
   "source": [
    "# 1. Create a 3x3x3 array with random values "
   ]
  },
  {
   "cell_type": "code",
   "execution_count": 2,
   "metadata": {},
   "outputs": [
    {
     "name": "stdout",
     "output_type": "stream",
     "text": [
      "[[[5.61858287e+175 1.05854545e+200 1.46921998e+195]\n",
      "  [3.02876088e-152 5.83439491e+252 5.81236387e+180]\n",
      "  [4.20715265e+251 3.15474910e+180 2.31463017e-152]]\n",
      "\n",
      " [[2.30908182e+251 2.79194220e-152 5.28961029e+180]\n",
      "  [4.71980621e+164 5.53194614e+199 4.27255602e+180]\n",
      "  [3.17095856e+180 2.43395994e-152 3.17095864e+180]]\n",
      "\n",
      " [[6.96412858e+252 1.96086529e+243 5.02070164e+276]\n",
      "  [3.15474910e+180 2.43395994e-152 7.62870122e+228]\n",
      "  [7.10236516e+194 1.46923551e+195 2.03631957e+174]]]\n"
     ]
    }
   ],
   "source": [
    "a = np.empty((3,3,3))\n",
    "print(a)"
   ]
  },
  {
   "cell_type": "markdown",
   "metadata": {},
   "source": [
    "# 2.Create a 5x5 matrix with values 1,2,3,4 just below the diagonal"
   ]
  },
  {
   "cell_type": "code",
   "execution_count": 3,
   "metadata": {},
   "outputs": [
    {
     "name": "stdout",
     "output_type": "stream",
     "text": [
      "[[0. 0. 0. 0. 0.]\n",
      " [1. 0. 0. 0. 0.]\n",
      " [0. 2. 0. 0. 0.]\n",
      " [0. 0. 3. 0. 0.]\n",
      " [0. 0. 0. 4. 0.]]\n"
     ]
    }
   ],
   "source": [
    "b = np.zeros((5,5))\n",
    "count = 1;\n",
    "for i in range(5):\n",
    "    for j in range(5):\n",
    "        if i == j and j-1 >= 0:\n",
    "            b[i][j-1] = count;\n",
    "            count = count + 1\n",
    "print(b)"
   ]
  },
  {
   "cell_type": "markdown",
   "metadata": {},
   "source": [
    "# 3.Create a 8x8 matrix and fill it with a checkerboard pattern"
   ]
  },
  {
   "cell_type": "code",
   "execution_count": 4,
   "metadata": {},
   "outputs": [
    {
     "name": "stdout",
     "output_type": "stream",
     "text": [
      "[[0 1 0 1 0 1 0 1]\n",
      " [1 0 1 0 1 0 1 0]\n",
      " [0 1 0 1 0 1 0 1]\n",
      " [1 0 1 0 1 0 1 0]\n",
      " [0 1 0 1 0 1 0 1]\n",
      " [1 0 1 0 1 0 1 0]\n",
      " [0 1 0 1 0 1 0 1]\n",
      " [1 0 1 0 1 0 1 0]]\n"
     ]
    }
   ],
   "source": [
    "c = np.zeros((8,8), dtype = 'int32')\n",
    "c[1::2, ::2] = 1\n",
    "c[::2, 1::2] = 1\n",
    "print(c)"
   ]
  },
  {
   "cell_type": "markdown",
   "metadata": {},
   "source": [
    "# 4. Normalize a 5x5 random matrix"
   ]
  },
  {
   "cell_type": "code",
   "execution_count": 3,
   "metadata": {},
   "outputs": [
    {
     "name": "stdout",
     "output_type": "stream",
     "text": [
      "[[6.23042070e-307 4.67296746e-307 1.69121096e-306 8.01092457e-307\n",
      "  1.89146896e-307]\n",
      " [1.37961302e-306 1.05699242e-307 8.01097889e-307 1.78020169e-306\n",
      "  7.56601165e-307]\n",
      " [1.02359984e-306 1.33510679e-306 2.22522597e-306 1.24611674e-306\n",
      "  1.29061821e-306]\n",
      " [6.23057349e-307 2.22522597e-306 1.06810268e-306 6.23052935e-307\n",
      "  1.29062025e-306]\n",
      " [8.34445562e-308 1.78022342e-306 8.06635958e-308 1.42410974e-306\n",
      "  3.20558931e-317]]\n",
      "[[0.27999047 0.20999968 0.76001763 0.36000499 0.08500121]\n",
      " [0.61998783 0.04750045 0.36000743 0.8000094  0.34001094]\n",
      " [0.45999816 0.59998706 1.         0.55999559 0.57999423]\n",
      " [0.27999734 1.         0.4799974  0.27999536 0.57999514]\n",
      " [0.03749936 0.80001916 0.03624962 0.63998433 0.        ]]\n"
     ]
    }
   ],
   "source": [
    "d = np.empty((5,5))\n",
    "print(d)\n",
    "\n",
    "dmax = d.max()\n",
    "dmin = d.min()\n",
    "\n",
    "d = (d - dmin)/(dmax - dmin)\n",
    "\n",
    "print(d)"
   ]
  },
  {
   "cell_type": "markdown",
   "metadata": {},
   "source": [
    "# 5.  How to find common values between two arrays?"
   ]
  },
  {
   "cell_type": "code",
   "execution_count": 4,
   "metadata": {},
   "outputs": [
    {
     "name": "stdout",
     "output_type": "stream",
     "text": [
      "[2 4]\n"
     ]
    }
   ],
   "source": [
    "e = np.array([1,2,3,4,5])\n",
    "f = np.array([2,4,6,8,10])\n",
    "\n",
    "print(np.intersect1d(e,f))"
   ]
  },
  {
   "cell_type": "markdown",
   "metadata": {},
   "source": [
    "# 6.How to get the dates of yesterday, today and tomorrow?"
   ]
  },
  {
   "cell_type": "code",
   "execution_count": 5,
   "metadata": {},
   "outputs": [
    {
     "name": "stdout",
     "output_type": "stream",
     "text": [
      "Yesterday - 2020-07-26\n",
      "Today - 2020-07-27\n",
      "Tomorrow - 2020-07-28\n"
     ]
    }
   ],
   "source": [
    "yesterday = np.datetime64('today', 'D') - np.timedelta64(1, 'D')\n",
    "print(\"Yesterday -\", yesterday)\n",
    "\n",
    "today = np.datetime64('today', 'D')\n",
    "print(\"Today -\",today)\n",
    "\n",
    "tomorrow = np.datetime64('today','D') + np.timedelta64(1,'D')\n",
    "print(\"Tomorrow -\", tomorrow)"
   ]
  },
  {
   "cell_type": "markdown",
   "metadata": {},
   "source": [
    "# 7. Consider two random array A and B, check if they are equal"
   ]
  },
  {
   "cell_type": "code",
   "execution_count": 7,
   "metadata": {},
   "outputs": [
    {
     "name": "stdout",
     "output_type": "stream",
     "text": [
      "[[0.000e+000 0.000e+000 0.000e+000]\n",
      " [0.000e+000 0.000e+000 4.387e-321]\n",
      " [0.000e+000 0.000e+000 0.000e+000]]\n",
      "\n",
      "[[0.00000000e+000 0.00000000e+000 0.00000000e+000]\n",
      " [0.00000000e+000 0.00000000e+000 4.07110092e-321]\n",
      " [1.78022341e-306 8.06635958e-308 1.42410974e-306]]\n",
      "[[ True  True  True]\n",
      " [ True  True False]\n",
      " [False False False]]\n",
      "\n",
      "Both the arrays are not equal\n"
     ]
    }
   ],
   "source": [
    "arrA = np.empty((3,3))\n",
    "arrB = np.empty((3,3))\n",
    "\n",
    "print(arrA)\n",
    "print()\n",
    "print(arrB)\n",
    "\n",
    "bool_arr = arrA == arrB\n",
    "print(bool_arr)\n",
    "\n",
    "if False in bool_arr:\n",
    "    print(\"\\nBoth the arrays are not equal\")\n",
    "else:\n",
    "    print(\"\\nBoth the arrays are equal\")"
   ]
  },
  {
   "cell_type": "markdown",
   "metadata": {},
   "source": [
    "\n",
    "# 8.Create random vector of size 10 and replace the maximum value by 0 "
   ]
  },
  {
   "cell_type": "code",
   "execution_count": 44,
   "metadata": {},
   "outputs": [
    {
     "name": "stdout",
     "output_type": "stream",
     "text": [
      "[-1881382480         527           3           0           3           0\n",
      "           1           0           0           0]\n",
      "[-1881382480           0           0           0           0           0\n",
      "           1           3           3           0]\n"
     ]
    }
   ],
   "source": [
    "vect = np.empty((10), dtype = 'int32')\n",
    "print(vect)\n",
    "\n",
    "vect.sort()\n",
    "vect[vect.argmax()] = 0\n",
    "print(vect)"
   ]
  },
  {
   "cell_type": "markdown",
   "metadata": {},
   "source": [
    "# 9. How to print all the values of an array?"
   ]
  },
  {
   "cell_type": "code",
   "execution_count": 8,
   "metadata": {},
   "outputs": [
    {
     "name": "stdout",
     "output_type": "stream",
     "text": [
      "[ 1  3  5  7  9 11 13]\n",
      "1 3 5 7 9 11 13 "
     ]
    }
   ],
   "source": [
    "arr = np.arange(1,15,2)\n",
    "print(arr)\n",
    "\n",
    "for i in range(len(arr)):\n",
    "    print(arr[i], end = \" \")"
   ]
  },
  {
   "cell_type": "markdown",
   "metadata": {},
   "source": [
    "# 10.Subtract the mean of each row of a matrix"
   ]
  },
  {
   "cell_type": "code",
   "execution_count": 5,
   "metadata": {},
   "outputs": [
    {
     "name": "stdout",
     "output_type": "stream",
     "text": [
      "[[-460121080        470         50          0          0]\n",
      " [         0          0          0          0    4259932]\n",
      " [1852990827 1697541221  959984485  758604598  811743544]\n",
      " [ 858862637  809053493 1630352483 1681207654  926036326]\n",
      " [ 775250488 1952543859    7566197    6946908    6553701]]\n",
      "\n",
      "[[-3.68096968e+08 -8.51516400e+05 -1.21617288e+09 -1.18110252e+09\n",
      "  -5.49772231e+08]\n",
      " [ 9.20241120e+07 -8.51986400e+05 -1.21617294e+09 -1.18110252e+09\n",
      "  -5.45512299e+08]\n",
      " [ 1.94501494e+09  1.69668923e+09 -2.56188450e+08 -4.22497921e+08\n",
      "   2.61971313e+08]\n",
      " [ 9.50886749e+08  8.08201507e+08  4.14179548e+08  5.00105135e+08\n",
      "   3.76264095e+08]\n",
      " [ 8.67274600e+08  1.95169187e+09 -1.20860674e+09 -1.17415561e+09\n",
      "  -5.43218530e+08]]\n"
     ]
    }
   ],
   "source": [
    "x = np.empty((5, 5), dtype='int32')\n",
    "print(x)\n",
    "y = x - x.mean(axis=1)\n",
    "print()\n",
    "print(y)"
   ]
  },
  {
   "cell_type": "markdown",
   "metadata": {},
   "source": [
    "# 11.Consider a given vector, how to add 1 to each element indexed by a second vector (be careful with repeated indices)? "
   ]
  },
  {
   "cell_type": "code",
   "execution_count": 12,
   "metadata": {},
   "outputs": [
    {
     "name": "stdout",
     "output_type": "stream",
     "text": [
      "[1. 1. 1. 1. 1. 1. 1. 1. 1. 1. 1. 1. 1. 1. 1. 1. 1. 1. 1. 1.]\n",
      "[ 3 19 15  0 13  9 14 17  2  5  6 18  2 11  7  0 11 19 19  6]\n",
      "[3. 1. 3. 2. 1. 2. 3. 2. 1. 2. 1. 3. 1. 2. 2. 2. 1. 2. 2. 4.]\n"
     ]
    }
   ],
   "source": [
    "vecta = np.ones(20)\n",
    "print(vecta)\n",
    "\n",
    "vectb = np.random.randint(0,len(vecta),20)\n",
    "print(vectb)\n",
    "\n",
    "vecta += np.bincount(vectb, minlength=len(vecta))\n",
    "print(vecta)"
   ]
  },
  {
   "cell_type": "markdown",
   "metadata": {},
   "source": [
    "# 12.How to get the diagonal of a dot product?"
   ]
  },
  {
   "cell_type": "code",
   "execution_count": 20,
   "metadata": {},
   "outputs": [
    {
     "name": "stdout",
     "output_type": "stream",
     "text": [
      "[[867103232 212640576]\n",
      " [        0         0]]\n",
      "\n",
      "[[-465045680        470]\n",
      " [         0          0]]\n",
      "\n",
      "[271163392         0]\n"
     ]
    }
   ],
   "source": [
    "x = np.empty((2,2), dtype = 'int32')\n",
    "y = np.empty((2,2), dtype = 'int32')\n",
    "\n",
    "print(x)\n",
    "print()\n",
    "print(y)\n",
    "print()\n",
    "\n",
    "print(np.diag(x.dot(y)))"
   ]
  },
  {
   "cell_type": "markdown",
   "metadata": {},
   "source": [
    "# 13.How to find the most frequent value in an array?"
   ]
  },
  {
   "cell_type": "code",
   "execution_count": 28,
   "metadata": {},
   "outputs": [
    {
     "name": "stdout",
     "output_type": "stream",
     "text": [
      "[ 9 11  7  9  4  4  3  2  2 11  3 11  9  5 10  3  8 11  5  9  1 10]\n",
      "9\n"
     ]
    }
   ],
   "source": [
    "freq = np.random.randint(1,12,22)\n",
    "print(freq)\n",
    "\n",
    "print(np.bincount(freq).argmax())"
   ]
  },
  {
   "cell_type": "markdown",
   "metadata": {},
   "source": [
    "# 14.How to get the n largest values of an array"
   ]
  },
  {
   "cell_type": "code",
   "execution_count": 31,
   "metadata": {},
   "outputs": [
    {
     "name": "stdout",
     "output_type": "stream",
     "text": [
      "[10  7  7 10 10  8 10  6  5 12 10  8]\n",
      "[ 8  7  1  2  5 11  0  3  4  6 10  9]\n"
     ]
    },
    {
     "data": {
      "text/plain": [
       "array([ 9, 10,  6,  4], dtype=int64)"
      ]
     },
     "execution_count": 31,
     "metadata": {},
     "output_type": "execute_result"
    }
   ],
   "source": [
    "arr = np.random.randint(3,14,12)\n",
    "print(arr)\n",
    "n = 4\n",
    "\n",
    "print(arr.argsort())\n",
    "arr.argsort()[-n:][::-1]"
   ]
  },
  {
   "cell_type": "markdown",
   "metadata": {},
   "source": [
    "# 15.How to create a record array from a regular array?"
   ]
  },
  {
   "cell_type": "code",
   "execution_count": 36,
   "metadata": {},
   "outputs": [
    {
     "name": "stdout",
     "output_type": "stream",
     "text": [
      "[13  8  7  3 13  5 11  3  7 12 12  3 10  6  9  4  9 11 13  1]\n",
      "(13, 8, 7, 3, 13, 5, 11, 3, 7, 12, 12, 3, 10, 6, 9, 4, 9, 11, 13, 1)\n"
     ]
    }
   ],
   "source": [
    "regarr = np.random.randint(1,14,20)\n",
    "\n",
    "print(regarr)\n",
    "\n",
    "result = np.core.records.fromarrays(regarr)\n",
    "print(result)"
   ]
  }
 ],
 "metadata": {
  "kernelspec": {
   "display_name": "Python 3",
   "language": "python",
   "name": "python3"
  },
  "language_info": {
   "codemirror_mode": {
    "name": "ipython",
    "version": 3
   },
   "file_extension": ".py",
   "mimetype": "text/x-python",
   "name": "python",
   "nbconvert_exporter": "python",
   "pygments_lexer": "ipython3",
   "version": "3.7.4"
  }
 },
 "nbformat": 4,
 "nbformat_minor": 2
}
