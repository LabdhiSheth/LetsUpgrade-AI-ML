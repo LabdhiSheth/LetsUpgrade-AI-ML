{
 "cells": [
  {
   "cell_type": "markdown",
   "metadata": {},
   "source": [
    "To apply statistical tests when Attrition is yes and when Attrition is no. As the data have independent columns we apply Mann-Whitney test and Two sample seperate test."
   ]
  },
  {
   "cell_type": "code",
   "execution_count": 1,
   "metadata": {},
   "outputs": [],
   "source": [
    "import pandas as pd\n",
    "from sklearn import preprocessing\n",
    "from scipy.stats import mannwhitneyu\n",
    "from scipy.stats import ttest_ind"
   ]
  },
  {
   "cell_type": "code",
   "execution_count": 2,
   "metadata": {},
   "outputs": [],
   "source": [
    "label_encoder = preprocessing.LabelBinarizer()\n",
    "dataset_yes = pd.read_csv(\"Attrition_yes.csv\")\n",
    "dataset_no = pd.read_csv(\"Attrition_No.csv\")\n",
    "dataset_yes['Attrition'] = label_encoder.fit_transform(dataset_yes['Attrition'])\n",
    "dataset_no['Attrition'] = label_encoder.fit_transform(dataset_no['Attrition'])"
   ]
  },
  {
   "cell_type": "markdown",
   "metadata": {},
   "source": [
    "1. H0 - There is no signifiant difference between MonthyIncome when Attrition is yes and when Attrition is no"
   ]
  },
  {
   "cell_type": "code",
   "execution_count": 4,
   "metadata": {},
   "outputs": [
    {
     "name": "stdout",
     "output_type": "stream",
     "text": [
      "0.03842748490605113\n"
     ]
    }
   ],
   "source": [
    "stats,p = ttest_ind(dataset_yes.MonthlyIncome, dataset_no.MonthlyIncome)\n",
    "print(p)"
   ]
  },
  {
   "cell_type": "markdown",
   "metadata": {},
   "source": [
    "Since the value of p is less than 0.05, we reject the null hypothesis. Therefore there is significant difference between them "
   ]
  },
  {
   "cell_type": "markdown",
   "metadata": {},
   "source": [
    "2. H0 - There is no signifiant difference between DistanceFromHome when Attrition is yes and when Attrition is no"
   ]
  },
  {
   "cell_type": "code",
   "execution_count": 6,
   "metadata": {},
   "outputs": [
    {
     "name": "stdout",
     "output_type": "stream",
     "text": [
      "0.4629185205822659\n"
     ]
    }
   ],
   "source": [
    "stats,p = mannwhitneyu(dataset_yes.DistanceFromHome, dataset_no.DistanceFromHome)\n",
    "print(p)"
   ]
  },
  {
   "cell_type": "markdown",
   "metadata": {},
   "source": [
    "Since the value of p is greater than 0.05, we accept the null hypothesis. Therefore there is significant difference between them "
   ]
  },
  {
   "cell_type": "markdown",
   "metadata": {},
   "source": [
    "3. H0 - There is no signifiant difference between YearsAtCompany when Attrition is yes and when Attrition is no"
   ]
  },
  {
   "cell_type": "code",
   "execution_count": 8,
   "metadata": {},
   "outputs": [
    {
     "name": "stdout",
     "output_type": "stream",
     "text": [
      "3.163883122491456e-19\n"
     ]
    }
   ],
   "source": [
    "stats,p = ttest_ind(dataset_yes.YearsAtCompany, dataset_no.YearsAtCompany)\n",
    "print(p)"
   ]
  },
  {
   "cell_type": "markdown",
   "metadata": {},
   "source": [
    "Since the value of p is less than 0.05, we reject the null hypothesis. Therefore there is significant difference between them "
   ]
  },
  {
   "cell_type": "markdown",
   "metadata": {},
   "source": [
    "4. H0 - There is no signifiant difference between YearsAtCompany when Attrition is yes and when Attrition is no"
   ]
  },
  {
   "cell_type": "code",
   "execution_count": 9,
   "metadata": {},
   "outputs": [
    {
     "name": "stdout",
     "output_type": "stream",
     "text": [
      "6.047598261692858e-37\n"
     ]
    }
   ],
   "source": [
    "stats,p = mannwhitneyu(dataset_yes.YearsAtCompany, dataset_no.YearsAtCompany)\n",
    "print(p)"
   ]
  },
  {
   "cell_type": "markdown",
   "metadata": {},
   "source": [
    "Since the value of p is less than 0.05, we reject the null hypothesis. Therefore there is significant difference between them "
   ]
  },
  {
   "cell_type": "markdown",
   "metadata": {},
   "source": [
    "5. H0 - There is no signifiant difference between YearsWithCurrManager when Attrition is yes and when Attrition is no"
   ]
  },
  {
   "cell_type": "code",
   "execution_count": 10,
   "metadata": {},
   "outputs": [
    {
     "name": "stdout",
     "output_type": "stream",
     "text": [
      "1.2365483142169853e-31\n"
     ]
    }
   ],
   "source": [
    "stats,p = mannwhitneyu(dataset_yes.YearsWithCurrManager, dataset_no.YearsWithCurrManager)\n",
    "print(p)"
   ]
  },
  {
   "cell_type": "markdown",
   "metadata": {},
   "source": [
    "Since the value of p is less than 0.05, we reject the null hypothesis. Therefore there is significant difference between them "
   ]
  },
  {
   "cell_type": "markdown",
   "metadata": {},
   "source": [
    "6. H0 - There is no signifiant difference between YearsWithCurrManager when Attrition is yes and when Attrition is no"
   ]
  },
  {
   "cell_type": "code",
   "execution_count": 11,
   "metadata": {},
   "outputs": [
    {
     "name": "stdout",
     "output_type": "stream",
     "text": [
      "1.7339322652918153e-25\n"
     ]
    }
   ],
   "source": [
    "stats,p = ttest_ind(dataset_yes.YearsWithCurrManager, dataset_no.YearsWithCurrManager)\n",
    "print(p)"
   ]
  },
  {
   "cell_type": "markdown",
   "metadata": {},
   "source": [
    "Since the value of p is less than 0.05, we reject the null hypothesis. Therefore there is significant difference between them "
   ]
  }
 ],
 "metadata": {
  "kernelspec": {
   "display_name": "Python 3",
   "language": "python",
   "name": "python3"
  },
  "language_info": {
   "codemirror_mode": {
    "name": "ipython",
    "version": 3
   },
   "file_extension": ".py",
   "mimetype": "text/x-python",
   "name": "python",
   "nbconvert_exporter": "python",
   "pygments_lexer": "ipython3",
   "version": "3.7.4"
  }
 },
 "nbformat": 4,
 "nbformat_minor": 2
}
