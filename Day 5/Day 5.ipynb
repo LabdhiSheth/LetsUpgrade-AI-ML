{
 "cells": [
  {
   "cell_type": "markdown",
   "metadata": {},
   "source": [
    "# LetsUpgrade Day 5 Assignment"
   ]
  },
  {
   "cell_type": "markdown",
   "metadata": {},
   "source": [
    "**1. Write a Python program to find the first 20 non-even prime natural numbers.**"
   ]
  },
  {
   "cell_type": "code",
   "execution_count": 4,
   "metadata": {},
   "outputs": [
    {
     "name": "stdout",
     "output_type": "stream",
     "text": [
      "First 20 non - even prime natural numbers are : \n",
      "[3, 5, 7, 9, 11, 13, 15, 17, 19, 21, 23, 25, 27, 29, 31, 33, 35, 37, 39, 41]\n"
     ]
    }
   ],
   "source": [
    "a = []\n",
    "\n",
    "def isPrime(num):\n",
    "    global count\n",
    "    for i in range(2, num):\n",
    "        if (num%i) == 0:\n",
    "            break\n",
    "        if (num % i) != 0:\n",
    "            count = count + 1\n",
    "            if count < 21:\n",
    "                a.append(num)\n",
    "            break\n",
    "            \n",
    "count = 0\n",
    "for i in range(3,100):\n",
    "    isPrime(i)\n",
    "\n",
    "print(\"First 20 non - even prime natural numbers are : \")\n",
    "print(a)"
   ]
  },
  {
   "cell_type": "markdown",
   "metadata": {},
   "source": [
    "**2. Write a Python program to implement 15 functions of string**"
   ]
  },
  {
   "cell_type": "code",
   "execution_count": 8,
   "metadata": {},
   "outputs": [
    {
     "name": "stdout",
     "output_type": "stream",
     "text": [
      "LetsUpgradeAI ML class\n",
      "letsupgrade\n",
      "AI ML CLASS\n",
      "Letsupgrade\n",
      "11\n",
      "AI_ML_class\n",
      "2\n",
      "5\n",
      "False\n",
      "False\n",
      "True\n",
      "True\n",
      "ai ml CLASS\n",
      "True\n",
      "False\n"
     ]
    }
   ],
   "source": [
    "str1 = \"LetsUpgrade\"\n",
    "str2 = \"AI ML class\"\n",
    "str3 = \"day5\"\n",
    "str4 = \"xyz\"\n",
    "str5 = \"XYz\"\n",
    "\n",
    "#1. concate\n",
    "print(str1 + str2)\n",
    "\n",
    "#2. lower\n",
    "print(str1.lower())\n",
    "\n",
    "#3. upper\n",
    "print(str2.upper())\n",
    "\n",
    "#4. capitalize\n",
    "print(str1.capitalize())\n",
    "\n",
    "#5. len\n",
    "print(len(str1))\n",
    "\n",
    "#6. replace\n",
    "print(str2.replace(' ','_'))\n",
    "\n",
    "#7. count\n",
    "print(str1.count('e'))\n",
    "\n",
    "#8. find\n",
    "print(str1.find('p',1,9))\n",
    "\n",
    "#9. isalpha\n",
    "print(str2.isalpha())\n",
    "\n",
    "#10. isidentifier\n",
    "print(str2.isidentifier())\n",
    "\n",
    "#11. isalpha\n",
    "print(str1.isalpha())\n",
    "\n",
    "#12. isalnum\n",
    "print(str3.isalnum())\n",
    "\n",
    "#13. swapcase\n",
    "print(str2.swapcase())\n",
    "\n",
    "#14. islower\n",
    "print(str4.islower())\n",
    "\n",
    "#15. isupper\n",
    "print(str5.isupper())"
   ]
  },
  {
   "cell_type": "markdown",
   "metadata": {},
   "source": [
    "**3. Write a Python program to check if the given string is a Palindrome or Anagram or None of them.\n",
    "Display the message accordingly to the user**"
   ]
  },
  {
   "cell_type": "code",
   "execution_count": 15,
   "metadata": {},
   "outputs": [
    {
     "name": "stdout",
     "output_type": "stream",
     "text": [
      "String ['telegram', 'margelet']  is both palindrome and anagram\n"
     ]
    }
   ],
   "source": [
    "string1 = \"telegram margelet\"\n",
    "\n",
    "string2 = string1[::-1]\n",
    "\n",
    "p = 0\n",
    "a = 0\n",
    "\n",
    "if string1 == string2:\n",
    "    p = 1\n",
    "    \n",
    "string1 = string1.split(' ')\n",
    "\n",
    "count = 0\n",
    "for letter in string1[0]:\n",
    "    for alpha in string1[1]:\n",
    "        if letter == alpha:\n",
    "            count = count + 1\n",
    "            break\n",
    "            \n",
    "if count == len(string1[0]):\n",
    "    a = 1\n",
    "    \n",
    "if p == 1 and a == 1:\n",
    "    print(\"String\",string1,\" is both palindrome and anagram\")\n",
    "elif p == 0 and a == 1:\n",
    "    print(\"String\",string1,\" is not palindrome but is a anagram\")\n",
    "elif p == 1 and a == 0:\n",
    "    print(\"String\",string1,\" is palindrome but is not anagram\")\n",
    "else:\n",
    "    print(\"String\",string1,\" is neither palindrome nor anagram\")"
   ]
  },
  {
   "cell_type": "code",
   "execution_count": 16,
   "metadata": {},
   "outputs": [
    {
     "name": "stdout",
     "output_type": "stream",
     "text": [
      "String ['telegram', 'margelet']  is anagram\n"
     ]
    }
   ],
   "source": [
    "#way2 to find if the string is anagram\n",
    "if sorted(string1[0]) == sorted(string1[1]):\n",
    "    print(\"String\",string1,\" is anagram\")"
   ]
  },
  {
   "cell_type": "markdown",
   "metadata": {},
   "source": [
    "**4. Write a Python's user defined function that removes all the additional characters from the string\n",
    "and converts it finally to lower case using built-in lower(). eg: If the string is \"Dr. Darshan Ingle\n",
    "@AI-ML Trainer\", then the output be \"drdarshaningleaimltrainer\"**"
   ]
  },
  {
   "cell_type": "code",
   "execution_count": 21,
   "metadata": {},
   "outputs": [
    {
     "name": "stdout",
     "output_type": "stream",
     "text": [
      "drdarshaningleaimltrainer\n"
     ]
    }
   ],
   "source": [
    "string = \"Dr. Darshan Ingle @AI-ML Trainer\"\n",
    "ans = \"\"\n",
    "for i in string:\n",
    "    if i.isalnum():\n",
    "        ans += i\n",
    "        \n",
    "print(ans.lower())"
   ]
  }
 ],
 "metadata": {
  "kernelspec": {
   "display_name": "Python 3",
   "language": "python",
   "name": "python3"
  },
  "language_info": {
   "codemirror_mode": {
    "name": "ipython",
    "version": 3
   },
   "file_extension": ".py",
   "mimetype": "text/x-python",
   "name": "python",
   "nbconvert_exporter": "python",
   "pygments_lexer": "ipython3",
   "version": "3.7.4"
  }
 },
 "nbformat": 4,
 "nbformat_minor": 2
}
