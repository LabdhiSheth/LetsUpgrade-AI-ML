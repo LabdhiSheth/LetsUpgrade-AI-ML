{
 "cells": [
  {
   "cell_type": "markdown",
   "metadata": {},
   "source": [
    "# LetsUpgrade Day 6 Assignment"
   ]
  },
  {
   "cell_type": "markdown",
   "metadata": {},
   "source": [
    "**1. Assuming that we have some email addresses in the \"username@companyname.com\" format, please write program\n",
    "to print the company name of a given email address. Both user names and company names are composed of letters\n",
    "only**"
   ]
  },
  {
   "cell_type": "code",
   "execution_count": 5,
   "metadata": {},
   "outputs": [
    {
     "name": "stdout",
     "output_type": "stream",
     "text": [
      "Enter the email address123@gmail.com\n",
      "Company name is gmail\n",
      "Do you wish to continue? 1\n",
      "Enter the email addressabc@yahoo.co.in\n",
      "Company name is yahoo\n",
      "Do you wish to continue? 0\n"
     ]
    }
   ],
   "source": [
    "flag = True\n",
    "\n",
    "while(flag):\n",
    "    email = input(\"Enter the email address\")\n",
    "    email = email.split(\"@\")\n",
    "\n",
    "    str = \"\"\n",
    "    for i in email[1]:\n",
    "        if i == '.':\n",
    "            break\n",
    "        else:\n",
    "            str += i\n",
    "\n",
    "    print(\"Company name is\",str)\n",
    "    \n",
    "    ans = int(input(\"Do you wish to continue? \"))\n",
    "    \n",
    "    if ans == 1:\n",
    "        flag = True\n",
    "    else:\n",
    "        flag = False"
   ]
  },
  {
   "cell_type": "markdown",
   "metadata": {},
   "source": [
    "**2. Write a program that accepts a comma-separated sequence of words as input and prints the words in a comma\n",
    "separated sequence after sorting them alphabetically.**"
   ]
  },
  {
   "cell_type": "code",
   "execution_count": 6,
   "metadata": {},
   "outputs": [
    {
     "name": "stdout",
     "output_type": "stream",
     "text": [
      "Enter words (comma separated)without,hello,bag,world\n",
      "['bag', 'hello', 'without', 'world']\n",
      "Do you wish to continue? 1\n",
      "Enter words (comma separated)abc,abb,acb,aab,aac\n",
      "['aab', 'aac', 'abb', 'abc', 'acb']\n",
      "Do you wish to continue? 0\n"
     ]
    }
   ],
   "source": [
    "flag = True\n",
    "\n",
    "while(flag):\n",
    "    words = input(\"Enter words (comma separated)\")\n",
    "    words = words.split(\",\")\n",
    "\n",
    "    words.sort()\n",
    "    print(words)\n",
    "    \n",
    "    ans = int(input(\"Do you wish to continue? \"))\n",
    "    \n",
    "    if ans == 1:\n",
    "        flag = True\n",
    "    else:\n",
    "        flag = False"
   ]
  },
  {
   "cell_type": "markdown",
   "metadata": {},
   "source": [
    "**3. Given a list of n-1 numbers ranging from 1 to n, your task is to find the missing number. There are no duplicates**"
   ]
  },
  {
   "cell_type": "code",
   "execution_count": 22,
   "metadata": {},
   "outputs": [
    {
     "name": "stdout",
     "output_type": "stream",
     "text": [
      "Enter the numbers1 2 4 6 3 7 8\n",
      "Missing number is 5\n"
     ]
    }
   ],
   "source": [
    "l1 = input(\"Enter the numbers\")\n",
    "l1 = l1.split(\" \")\n",
    "l1 = [int(i) for i in l1]\n",
    "\n",
    "suma = 0\n",
    "totsum = 0\n",
    "\n",
    "for i in l1:\n",
    "    suma += i\n",
    "\n",
    "for i in range(1,len(l1) + 2):\n",
    "    totsum += i\n",
    "    \n",
    "print(\"Missing number is\",(totsum - suma))"
   ]
  },
  {
   "cell_type": "markdown",
   "metadata": {},
   "source": [
    "**4. With a given list L, write a program to print this list L after removing all duplicate values with original order reserved.**"
   ]
  },
  {
   "cell_type": "code",
   "execution_count": 26,
   "metadata": {},
   "outputs": [
    {
     "name": "stdout",
     "output_type": "stream",
     "text": [
      "12 24 35 24 88 120 155 88 120 155\n",
      "List after removing duplicates is :  {35, 12, 155, 24, 88, 120}\n"
     ]
    }
   ],
   "source": [
    "l2 = input()\n",
    "l2 = l2.split(\" \")\n",
    "\n",
    "l2 = [int(i) for i in l2]\n",
    "\n",
    "ans = set(l2)\n",
    "print(\"List after removing duplicates is : \",ans)"
   ]
  }
 ],
 "metadata": {
  "kernelspec": {
   "display_name": "Python 3",
   "language": "python",
   "name": "python3"
  },
  "language_info": {
   "codemirror_mode": {
    "name": "ipython",
    "version": 3
   },
   "file_extension": ".py",
   "mimetype": "text/x-python",
   "name": "python",
   "nbconvert_exporter": "python",
   "pygments_lexer": "ipython3",
   "version": "3.7.4"
  }
 },
 "nbformat": 4,
 "nbformat_minor": 2
}
