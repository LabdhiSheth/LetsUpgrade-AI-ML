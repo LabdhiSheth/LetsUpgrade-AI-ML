{
 "cells": [
  {
   "cell_type": "markdown",
   "metadata": {},
   "source": [
    "# LetsUpgrade Day 3 Assignment"
   ]
  },
  {
   "cell_type": "markdown",
   "metadata": {},
   "source": [
    "**1. Write a program to subtract two complex numbers in Python**"
   ]
  },
  {
   "cell_type": "code",
   "execution_count": 9,
   "metadata": {},
   "outputs": [
    {
     "name": "stdout",
     "output_type": "stream",
     "text": [
      "a - b =  (-2-2j)\n",
      "b - a =  (2+2j)\n"
     ]
    }
   ],
   "source": [
    "a = 1 + 2j\n",
    "b = 3 + 4j\n",
    "print(\"a - b = \", a - b)\n",
    "print(\"b - a = \", b - a)"
   ]
  },
  {
   "cell_type": "markdown",
   "metadata": {},
   "source": [
    "**2. Write a program to find the fourth root of a number**"
   ]
  },
  {
   "cell_type": "code",
   "execution_count": 16,
   "metadata": {},
   "outputs": [
    {
     "name": "stdout",
     "output_type": "stream",
     "text": [
      "2.0\n"
     ]
    }
   ],
   "source": [
    "num = 16\n",
    "print(num ** (1/4))"
   ]
  },
  {
   "cell_type": "markdown",
   "metadata": {},
   "source": [
    "**3. Write a program to swap two numbers in Python with the help of a temporary variable.**"
   ]
  },
  {
   "cell_type": "code",
   "execution_count": 12,
   "metadata": {},
   "outputs": [
    {
     "name": "stdout",
     "output_type": "stream",
     "text": [
      "num1 and num2 before swapping -  12   13\n",
      "num1 and num2 after swapping -  13   12\n"
     ]
    }
   ],
   "source": [
    "num1 = 12\n",
    "num2 = 13\n",
    "print(\"num1 and num2 before swapping - \",num1,\" \",num2)\n",
    "temp = num1\n",
    "num1 = num2\n",
    "num2 = temp\n",
    "print(\"num1 and num2 after swapping - \",num1,\" \",num2)"
   ]
  },
  {
   "cell_type": "markdown",
   "metadata": {},
   "source": [
    "**4. Write a program to swap two numbers in Python without using a temporary variable.**\n"
   ]
  },
  {
   "cell_type": "code",
   "execution_count": 13,
   "metadata": {},
   "outputs": [
    {
     "name": "stdout",
     "output_type": "stream",
     "text": [
      "num1 and num2 before swapping -  15   545\n",
      "num1 and num2 after swapping -  545   15\n"
     ]
    }
   ],
   "source": [
    "num1 = 15\n",
    "num2 = 545\n",
    "\n",
    "print(\"num1 and num2 before swapping - \",num1,\" \",num2)\n",
    "\n",
    "num1 = num1 + num2\n",
    "num2 = num1 - num2\n",
    "num1 = num1 - num2\n",
    "\n",
    "print(\"num1 and num2 after swapping - \",num1,\" \",num2)"
   ]
  },
  {
   "cell_type": "markdown",
   "metadata": {},
   "source": [
    "**5. Write a program to convert fahrenheit to kelvin and celsius both.**"
   ]
  },
  {
   "cell_type": "code",
   "execution_count": 14,
   "metadata": {},
   "outputs": [
    {
     "name": "stdout",
     "output_type": "stream",
     "text": [
      "Fahrenheit -  100\n",
      "Kelvin - 310.77777777777777\n",
      "Celsius - 37.77777777777778\n"
     ]
    }
   ],
   "source": [
    "f = 100\n",
    "c = (f - 32)*(5/9)\n",
    "k = c + 273\n",
    "\n",
    "print(\"Fahrenheit - \",f)\n",
    "print(\"Kelvin -\",k)\n",
    "print(\"Celsius -\",c)"
   ]
  },
  {
   "cell_type": "markdown",
   "metadata": {},
   "source": [
    "**6. Write a program to demonstrate all the available data types in Python. Hint: Use type() function**"
   ]
  },
  {
   "cell_type": "code",
   "execution_count": 15,
   "metadata": {},
   "outputs": [
    {
     "name": "stdout",
     "output_type": "stream",
     "text": [
      "2 is of type <class 'int'>\n",
      "2.01 is of type <class 'float'>\n",
      "1 + 3j is of type <class 'complex'>\n",
      "'letsupgrade' is of type <class 'str'>\n",
      "True/False is of type <class 'bool'>\n",
      "[1, 2, 3]  is of type <class 'list'>\n",
      "(1, 2, 3)  is of type <class 'tuple'>\n",
      "{1: 'one', 2: 'two'}  is of type <class 'dict'>\n",
      "{1, 2, 3}  is of type <class 'set'>\n"
     ]
    }
   ],
   "source": [
    "print(\"2 is of type\",type(2))\n",
    "print(\"2.01 is of type\",type(2.01))\n",
    "print(\"1 + 3j is of type\",type(1+2j))\n",
    "print(\"'letsupgrade' is of type\",type('letsupgrade'))\n",
    "print(\"True/False is of type\",type(True))\n",
    "a = [1,2,3]\n",
    "print(a,\" is of type\",type(a))\n",
    "\n",
    "b = (1,2,3)\n",
    "print(b,\" is of type\",type(b))\n",
    "\n",
    "c = {1 : 'one', 2 : 'two'}\n",
    "print(c,\" is of type\",type(c))\n",
    "\n",
    "d = {1,2,3}\n",
    "print(d,\" is of type\",type(d))"
   ]
  },
  {
   "cell_type": "markdown",
   "metadata": {},
   "source": [
    "**7. Create a Markdown cell in jupyter and list the steps discussed in the session by Dr. Darshan\n",
    "Ingle sir to create Github profile and upload Githubs Assignment link.**"
   ]
  },
  {
   "cell_type": "markdown",
   "metadata": {},
   "source": [
    "1. Create a Github profile if not existing else open the Github account\n",
    "2. Create a new Repository named as LetsUpgrade AI/ML\n",
    "3. Keep the repository public\n",
    "4. Click on upload an existing file\n",
    "5. Drag and Drop the folder with the assignment\n",
    "6. Press Commit changes\n",
    "7. Go to the folder and copy the link to upload the Assignment link"
   ]
  },
  {
   "cell_type": "code",
   "execution_count": null,
   "metadata": {},
   "outputs": [],
   "source": []
  }
 ],
 "metadata": {
  "kernelspec": {
   "display_name": "Python 3",
   "language": "python",
   "name": "python3"
  },
  "language_info": {
   "codemirror_mode": {
    "name": "ipython",
    "version": 3
   },
   "file_extension": ".py",
   "mimetype": "text/x-python",
   "name": "python",
   "nbconvert_exporter": "python",
   "pygments_lexer": "ipython3",
   "version": "3.7.4"
  }
 },
 "nbformat": 4,
 "nbformat_minor": 2
}
